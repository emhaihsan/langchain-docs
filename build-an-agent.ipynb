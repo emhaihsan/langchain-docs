{
 "cells": [
  {
   "cell_type": "markdown",
   "metadata": {},
   "source": [
    "## End-to-end agent"
   ]
  },
  {
   "cell_type": "markdown",
   "metadata": {},
   "source": [
    "Example end to end agent:\n",
    "```python\n",
    "# Import relevant functionality\n",
    "from langchain_anthropic import ChatAnthropic\n",
    "from langchain_community.tools.tavily_search import TavilySearchResults\n",
    "from langchain_core.messages import HumanMessage\n",
    "from langgraph.checkpoint.sqlite import SqliteSaver\n",
    "from langgraph.prebuilt import create_react_agent\n",
    "\n",
    "# Create the agent\n",
    "memory = SqliteSaver.from_conn_string(\":memory:\")\n",
    "model = ChatAnthropic(model_name=\"claude-3-sonnet-20240229\")\n",
    "search = TavilySearchResults(max_results=2)\n",
    "tools = [search]\n",
    "agent_executor = create_react_agent(model, tools, checkpointer=memory)\n",
    "\n",
    "# Use the agent\n",
    "config = {\"configurable\": {\"thread_id\": \"abc123\"}}\n",
    "for chunk in agent_executor.stream(\n",
    "    {\"messages\": [HumanMessage(content=\"hi im bob! and i live in sf\")]}, config\n",
    "):\n",
    "    print(chunk)\n",
    "    print(\"----\")\n",
    "\n",
    "for chunk in agent_executor.stream(\n",
    "    {\"messages\": [HumanMessage(content=\"whats the weather where I live?\")]}, config\n",
    "):\n",
    "    print(chunk)\n",
    "    print(\"----\")\n",
    "```"
   ]
  },
  {
   "cell_type": "code",
   "execution_count": 2,
   "metadata": {},
   "outputs": [],
   "source": [
    "import os\n",
    "\n",
    "os.environ[\"LANGCHAIN_TRACING_V2\"] = \"true\""
   ]
  },
  {
   "cell_type": "markdown",
   "metadata": {},
   "source": [
    "## Define Tools"
   ]
  },
  {
   "cell_type": "code",
   "execution_count": 3,
   "metadata": {},
   "outputs": [
    {
     "name": "stdout",
     "output_type": "stream",
     "text": [
      "[{'url': 'https://www.weatherapi.com/', 'content': \"{'location': {'name': 'Jakarta', 'region': 'Jakarta Raya', 'country': 'Indonesia', 'lat': -6.21, 'lon': 106.85, 'tz_id': 'Asia/Jakarta', 'localtime_epoch': 1721047365, 'localtime': '2024-07-15 19:42'}, 'current': {'last_updated_epoch': 1721046600, 'last_updated': '2024-07-15 19:30', 'temp_c': 28.1, 'temp_f': 82.6, 'is_day': 0, 'condition': {'text': 'Mist', 'icon': '//cdn.weatherapi.com/weather/64x64/night/143.png', 'code': 1030}, 'wind_mph': 3.8, 'wind_kph': 6.1, 'wind_degree': 300, 'wind_dir': 'WNW', 'pressure_mb': 1009.0, 'pressure_in': 29.8, 'precip_mm': 0.0, 'precip_in': 0.0, 'humidity': 66, 'cloud': 50, 'feelslike_c': 29.7, 'feelslike_f': 85.4, 'windchill_c': 27.8, 'windchill_f': 82.0, 'heatindex_c': 29.2, 'heatindex_f': 84.6, 'dewpoint_c': 18.8, 'dewpoint_f': 65.9, 'vis_km': 4.4, 'vis_miles': 2.0, 'uv': 1.0, 'gust_mph': 10.0, 'gust_kph': 16.2}}\"}, {'url': 'https://world-weather.info/forecast/indonesia/jakarta/july-2024/', 'content': 'Detailed ⚡ Jakarta Weather Forecast for July 2024 - day/night 🌡️ temperatures, precipitations - World-Weather.info. Add the current city. Search. Weather; Archive; Widgets °F. World; Indonesia; Weather in Jakarta; ... 15 +88° +79° 16 +88° +79° 17 ...'}]\n"
     ]
    }
   ],
   "source": [
    "from langchain_community.tools.tavily_search import TavilySearchResults\n",
    "\n",
    "search = TavilySearchResults(max_results=2)\n",
    "search_results = search.invoke(\"what is the weather in Jakarta\")\n",
    "print(search_results)\n",
    "# If we want, we can create other tools.\n",
    "# Once we have all the tools we want, we can put them in a list that we will reference later.\n",
    "tools = [search]"
   ]
  },
  {
   "cell_type": "markdown",
   "metadata": {},
   "source": [
    "## Using Language Models"
   ]
  },
  {
   "cell_type": "code",
   "execution_count": 6,
   "metadata": {},
   "outputs": [],
   "source": [
    "from langchain_openai import ChatOpenAI\n",
    "\n",
    "model = ChatOpenAI(model=\"gpt-3.5-turbo\")"
   ]
  },
  {
   "cell_type": "code",
   "execution_count": 7,
   "metadata": {},
   "outputs": [
    {
     "data": {
      "text/plain": [
       "'Hello! How can I assist you today?'"
      ]
     },
     "execution_count": 7,
     "metadata": {},
     "output_type": "execute_result"
    }
   ],
   "source": [
    "from langchain_core.messages import HumanMessage\n",
    "\n",
    "response = model.invoke([HumanMessage(content=\"hi!\")])\n",
    "response.content"
   ]
  },
  {
   "cell_type": "code",
   "execution_count": 8,
   "metadata": {},
   "outputs": [],
   "source": [
    "model_with_tools = model.bind_tools(tools)"
   ]
  },
  {
   "cell_type": "code",
   "execution_count": 9,
   "metadata": {},
   "outputs": [
    {
     "name": "stdout",
     "output_type": "stream",
     "text": [
      "ContentString: Hello! How can I assist you today?\n",
      "ToolCalls: []\n"
     ]
    }
   ],
   "source": [
    "response = model_with_tools.invoke([HumanMessage(content=\"Hi!\")])\n",
    "\n",
    "print(f\"ContentString: {response.content}\")\n",
    "print(f\"ToolCalls: {response.tool_calls}\")"
   ]
  },
  {
   "cell_type": "code",
   "execution_count": 10,
   "metadata": {},
   "outputs": [
    {
     "name": "stdout",
     "output_type": "stream",
     "text": [
      "ContentString: \n",
      "ToolCalls: [{'name': 'tavily_search_results_json', 'args': {'query': 'weather in San Francisco'}, 'id': 'call_TVYbyTNFotIxKdzuCwNC3cgY', 'type': 'tool_call'}]\n"
     ]
    }
   ],
   "source": [
    "response = model_with_tools.invoke([HumanMessage(content=\"What's the weather in SF?\")])\n",
    "\n",
    "print(f\"ContentString: {response.content}\")\n",
    "print(f\"ToolCalls: {response.tool_calls}\")"
   ]
  },
  {
   "cell_type": "markdown",
   "metadata": {},
   "source": [
    "## Create the agent"
   ]
  },
  {
   "cell_type": "code",
   "execution_count": 11,
   "metadata": {},
   "outputs": [],
   "source": [
    "from langgraph.prebuilt import create_react_agent\n",
    "\n",
    "agent_executor = create_react_agent(model, tools)"
   ]
  },
  {
   "cell_type": "markdown",
   "metadata": {},
   "source": [
    "## Run the agent"
   ]
  },
  {
   "cell_type": "code",
   "execution_count": 12,
   "metadata": {},
   "outputs": [
    {
     "data": {
      "text/plain": [
       "[HumanMessage(content='hi!', id='987a580b-df41-4d73-9f41-6bc087a2c47b'),\n",
       " AIMessage(content='Hello! How can I assist you today?', response_metadata={'token_usage': {'completion_tokens': 10, 'prompt_tokens': 83, 'total_tokens': 93}, 'model_name': 'gpt-3.5-turbo-0125', 'system_fingerprint': None, 'finish_reason': 'stop', 'logprobs': None}, id='run-2f961d94-58fc-49c0-aad4-45d5574f98bc-0', usage_metadata={'input_tokens': 83, 'output_tokens': 10, 'total_tokens': 93})]"
      ]
     },
     "execution_count": 12,
     "metadata": {},
     "output_type": "execute_result"
    }
   ],
   "source": [
    "response = agent_executor.invoke({\"messages\": [HumanMessage(content=\"hi!\")]})\n",
    "\n",
    "response[\"messages\"]"
   ]
  },
  {
   "cell_type": "code",
   "execution_count": 13,
   "metadata": {},
   "outputs": [
    {
     "data": {
      "text/plain": [
       "[HumanMessage(content='whats the weather in hulu sungai tengah regency?', id='a855390a-b159-49dd-85de-d67dab17752f'),\n",
       " AIMessage(content='', additional_kwargs={'tool_calls': [{'id': 'call_vVHqe2kUZEgC6KtSFf9QMqG9', 'function': {'arguments': '{\"query\":\"weather in Hulu Sungai Tengah Regency\"}', 'name': 'tavily_search_results_json'}, 'type': 'function'}]}, response_metadata={'token_usage': {'completion_tokens': 27, 'prompt_tokens': 95, 'total_tokens': 122}, 'model_name': 'gpt-3.5-turbo-0125', 'system_fingerprint': None, 'finish_reason': 'tool_calls', 'logprobs': None}, id='run-b4923388-c353-4642-9214-097de0c92462-0', tool_calls=[{'name': 'tavily_search_results_json', 'args': {'query': 'weather in Hulu Sungai Tengah Regency'}, 'id': 'call_vVHqe2kUZEgC6KtSFf9QMqG9', 'type': 'tool_call'}], usage_metadata={'input_tokens': 95, 'output_tokens': 27, 'total_tokens': 122}),\n",
       " ToolMessage(content='[{\"url\": \"https://www.weatherapi.com/\", \"content\": \"{\\'location\\': {\\'name\\': \\'Kampong Sungai Tengah\\', \\'region\\': \\'\\', \\'country\\': \\'Singapore\\', \\'lat\\': 1.38, \\'lon\\': 103.9, \\'tz_id\\': \\'Asia/Singapore\\', \\'localtime_epoch\\': 1721047255, \\'localtime\\': \\'2024-07-15 20:40\\'}, \\'current\\': {\\'last_updated_epoch\\': 1721046600, \\'last_updated\\': \\'2024-07-15 20:30\\', \\'temp_c\\': 29.1, \\'temp_f\\': 84.4, \\'is_day\\': 0, \\'condition\\': {\\'text\\': \\'Partly cloudy\\', \\'icon\\': \\'//cdn.weatherapi.com/weather/64x64/night/116.png\\', \\'code\\': 1003}, \\'wind_mph\\': 9.4, \\'wind_kph\\': 15.1, \\'wind_degree\\': 150, \\'wind_dir\\': \\'SSE\\', \\'pressure_mb\\': 1008.0, \\'pressure_in\\': 29.77, \\'precip_mm\\': 0.0, \\'precip_in\\': 0.0, \\'humidity\\': 70, \\'cloud\\': 75, \\'feelslike_c\\': 34.2, \\'feelslike_f\\': 93.6, \\'windchill_c\\': 27.9, \\'windchill_f\\': 82.1, \\'heatindex_c\\': 31.5, \\'heatindex_f\\': 88.7, \\'dewpoint_c\\': 23.4, \\'dewpoint_f\\': 74.0, \\'vis_km\\': 10.0, \\'vis_miles\\': 6.0, \\'uv\\': 1.0, \\'gust_mph\\': 15.2, \\'gust_kph\\': 24.5}}\"}, {\"url\": \"https://www.wunderground.com/forecast/id/central-hulu-sungai-regency\", \"content\": \"Central Hulu Sungai Regency Weather Forecasts. Weather Underground provides local & long-range weather forecasts, weatherreports, maps & tropical weather conditions for the Central Hulu Sungai ...\"}]', name='tavily_search_results_json', id='fc192b93-d9da-44d9-b859-0b243f9df950', tool_call_id='call_vVHqe2kUZEgC6KtSFf9QMqG9'),\n",
       " AIMessage(content='The weather in Kampong Sungai Tengah is currently partly cloudy with a temperature of 29.1°C (84.4°F). The wind speed is 15.1 km/h coming from SSE direction. The humidity is at 70% with a cloud cover of 75%.', response_metadata={'token_usage': {'completion_tokens': 60, 'prompt_tokens': 608, 'total_tokens': 668}, 'model_name': 'gpt-3.5-turbo-0125', 'system_fingerprint': None, 'finish_reason': 'stop', 'logprobs': None}, id='run-e8eb95c4-40cf-4f97-a0df-fe70c89133e8-0', usage_metadata={'input_tokens': 608, 'output_tokens': 60, 'total_tokens': 668})]"
      ]
     },
     "execution_count": 13,
     "metadata": {},
     "output_type": "execute_result"
    }
   ],
   "source": [
    "response = agent_executor.invoke(\n",
    "    {\"messages\": [HumanMessage(content=\"whats the weather in hulu sungai tengah regency?\")]}\n",
    ")\n",
    "response[\"messages\"]"
   ]
  },
  {
   "cell_type": "code",
   "execution_count": 14,
   "metadata": {},
   "outputs": [
    {
     "name": "stdout",
     "output_type": "stream",
     "text": [
      "{'agent': {'messages': [AIMessage(content='', additional_kwargs={'tool_calls': [{'id': 'call_dWlywMeJzv070qwUGo3God0J', 'function': {'arguments': '{\"query\":\"weather in Hulu Sungai Tengah Regency\"}', 'name': 'tavily_search_results_json'}, 'type': 'function'}]}, response_metadata={'token_usage': {'completion_tokens': 27, 'prompt_tokens': 95, 'total_tokens': 122}, 'model_name': 'gpt-3.5-turbo-0125', 'system_fingerprint': None, 'finish_reason': 'tool_calls', 'logprobs': None}, id='run-9abf1688-22ab-4a42-ace1-9bf0a3fdc012-0', tool_calls=[{'name': 'tavily_search_results_json', 'args': {'query': 'weather in Hulu Sungai Tengah Regency'}, 'id': 'call_dWlywMeJzv070qwUGo3God0J', 'type': 'tool_call'}], usage_metadata={'input_tokens': 95, 'output_tokens': 27, 'total_tokens': 122})]}}\n",
      "----\n",
      "{'tools': {'messages': [ToolMessage(content='[{\"url\": \"https://www.weatherapi.com/\", \"content\": \"{\\'location\\': {\\'name\\': \\'Kampong Sungai Tengah\\', \\'region\\': \\'\\', \\'country\\': \\'Singapore\\', \\'lat\\': 1.38, \\'lon\\': 103.9, \\'tz_id\\': \\'Asia/Singapore\\', \\'localtime_epoch\\': 1721047255, \\'localtime\\': \\'2024-07-15 20:40\\'}, \\'current\\': {\\'last_updated_epoch\\': 1721046600, \\'last_updated\\': \\'2024-07-15 20:30\\', \\'temp_c\\': 29.1, \\'temp_f\\': 84.4, \\'is_day\\': 0, \\'condition\\': {\\'text\\': \\'Partly cloudy\\', \\'icon\\': \\'//cdn.weatherapi.com/weather/64x64/night/116.png\\', \\'code\\': 1003}, \\'wind_mph\\': 9.4, \\'wind_kph\\': 15.1, \\'wind_degree\\': 150, \\'wind_dir\\': \\'SSE\\', \\'pressure_mb\\': 1008.0, \\'pressure_in\\': 29.77, \\'precip_mm\\': 0.0, \\'precip_in\\': 0.0, \\'humidity\\': 70, \\'cloud\\': 75, \\'feelslike_c\\': 34.2, \\'feelslike_f\\': 93.6, \\'windchill_c\\': 27.9, \\'windchill_f\\': 82.1, \\'heatindex_c\\': 31.5, \\'heatindex_f\\': 88.7, \\'dewpoint_c\\': 23.4, \\'dewpoint_f\\': 74.0, \\'vis_km\\': 10.0, \\'vis_miles\\': 6.0, \\'uv\\': 1.0, \\'gust_mph\\': 15.2, \\'gust_kph\\': 24.5}}\"}, {\"url\": \"https://www.wunderground.com/forecast/id/central-hulu-sungai-regency\", \"content\": \"Central Hulu Sungai Regency Weather Forecasts. Weather Underground provides local & long-range weather forecasts, weatherreports, maps & tropical weather conditions for the Central Hulu Sungai ...\"}]', name='tavily_search_results_json', tool_call_id='call_dWlywMeJzv070qwUGo3God0J')]}}\n",
      "----\n",
      "{'agent': {'messages': [AIMessage(content='The weather in Hulu Sungai Tengah Regency is currently partly cloudy with a temperature of 29.1°C (84.4°F). The wind is blowing from the SSE direction at 15.1 kph. The humidity is at 70% with a cloud cover of 75%.', response_metadata={'token_usage': {'completion_tokens': 62, 'prompt_tokens': 608, 'total_tokens': 670}, 'model_name': 'gpt-3.5-turbo-0125', 'system_fingerprint': None, 'finish_reason': 'stop', 'logprobs': None}, id='run-b5318851-c0c8-4145-9ef3-6e9c0852fa9e-0', usage_metadata={'input_tokens': 608, 'output_tokens': 62, 'total_tokens': 670})]}}\n",
      "----\n"
     ]
    }
   ],
   "source": [
    "for chunk in agent_executor.stream(\n",
    "    {\"messages\": [HumanMessage(content=\"whats the weather in hulu sungai tengah regency?\")]}\n",
    "):\n",
    "    print(chunk)\n",
    "    print(\"----\")"
   ]
  },
  {
   "cell_type": "markdown",
   "metadata": {},
   "source": [
    "## Streaming tokens"
   ]
  },
  {
   "cell_type": "code",
   "execution_count": 16,
   "metadata": {},
   "outputs": [
    {
     "name": "stdout",
     "output_type": "stream",
     "text": [
      "--\n",
      "Starting tool: tavily_search_results_json with inputs: {'query': 'weather in Hulu Sungai Tengah Regency'}\n",
      "Done tool: tavily_search_results_json\n",
      "Tool output was: [{'url': 'https://www.weatherapi.com/', 'content': \"{'location': {'name': 'Kampong Sungai Tengah', 'region': '', 'country': 'Singapore', 'lat': 1.38, 'lon': 103.9, 'tz_id': 'Asia/Singapore', 'localtime_epoch': 1721047624, 'localtime': '2024-07-15 20:47'}, 'current': {'last_updated_epoch': 1721047500, 'last_updated': '2024-07-15 20:45', 'temp_c': 29.3, 'temp_f': 84.7, 'is_day': 0, 'condition': {'text': 'Partly cloudy', 'icon': '//cdn.weatherapi.com/weather/64x64/night/116.png', 'code': 1003}, 'wind_mph': 9.4, 'wind_kph': 15.1, 'wind_degree': 150, 'wind_dir': 'SSE', 'pressure_mb': 1008.0, 'pressure_in': 29.77, 'precip_mm': 0.0, 'precip_in': 0.0, 'humidity': 70, 'cloud': 75, 'feelslike_c': 34.7, 'feelslike_f': 94.4, 'windchill_c': 27.9, 'windchill_f': 82.1, 'heatindex_c': 31.5, 'heatindex_f': 88.7, 'dewpoint_c': 23.4, 'dewpoint_f': 74.0, 'vis_km': 10.0, 'vis_miles': 6.0, 'uv': 1.0, 'gust_mph': 15.2, 'gust_kph': 24.5}}\"}, {'url': 'https://www.wunderground.com/forecast/id/central-hulu-sungai-regency', 'content': 'Central Hulu Sungai Regency Weather Forecasts. Weather Underground provides local & long-range weather forecasts, weatherreports, maps & tropical weather conditions for the Central Hulu Sungai ...'}]\n",
      "--\n",
      "The| current| weather| in| Kam|pong| Sung|ai| T|eng|ah|,| which| is| located| in| Singapore|,| is| partly| cloudy|.| The| temperature| is| |29|.|3|°C| (|84|.|7|°F|)| with| a| wind| speed| of| |15|.|1| km|/h| coming| from| SSE|.| The| humidity| is| at| |70|%| with| a| visibility| of| |10|.|0| km|.|"
     ]
    }
   ],
   "source": [
    "async for event in agent_executor.astream_events(\n",
    "    {\"messages\": [HumanMessage(content=\"whats the weather in hulu sungai tengah regency?\")]}, version=\"v1\"\n",
    "):\n",
    "    kind = event[\"event\"]\n",
    "    if kind == \"on_chain_start\":\n",
    "        if (\n",
    "            event[\"name\"] == \"Agent\"\n",
    "        ):  # Was assigned when creating the agent with `.with_config({\"run_name\": \"Agent\"})`\n",
    "            print(\n",
    "                f\"Starting agent: {event['name']} with input: {event['data'].get('input')}\"\n",
    "            )\n",
    "    elif kind == \"on_chain_end\":\n",
    "        if (\n",
    "            event[\"name\"] == \"Agent\"\n",
    "        ):  # Was assigned when creating the agent with `.with_config({\"run_name\": \"Agent\"})`\n",
    "            print()\n",
    "            print(\"--\")\n",
    "            print(\n",
    "                f\"Done agent: {event['name']} with output: {event['data'].get('output')['output']}\"\n",
    "            )\n",
    "    if kind == \"on_chat_model_stream\":\n",
    "        content = event[\"data\"][\"chunk\"].content\n",
    "        if content:\n",
    "            # Empty content in the context of OpenAI means\n",
    "            # that the model is asking for a tool to be invoked.\n",
    "            # So we only print non-empty content\n",
    "            print(content, end=\"|\")\n",
    "    elif kind == \"on_tool_start\":\n",
    "        print(\"--\")\n",
    "        print(\n",
    "            f\"Starting tool: {event['name']} with inputs: {event['data'].get('input')}\"\n",
    "        )\n",
    "    elif kind == \"on_tool_end\":\n",
    "        print(f\"Done tool: {event['name']}\")\n",
    "        print(f\"Tool output was: {event['data'].get('output')}\")\n",
    "        print(\"--\")"
   ]
  },
  {
   "cell_type": "markdown",
   "metadata": {},
   "source": [
    "## Adding in Memory"
   ]
  },
  {
   "cell_type": "code",
   "execution_count": 22,
   "metadata": {},
   "outputs": [],
   "source": [
    "from langgraph.checkpoint.sqlite import SqliteSaver\n",
    "\n",
    "memory = SqliteSaver.from_conn_string(\":memory:\")"
   ]
  },
  {
   "cell_type": "code",
   "execution_count": 23,
   "metadata": {},
   "outputs": [],
   "source": [
    "agent_executor = create_react_agent(model, tools, checkpointer=memory)\n",
    "\n",
    "config = {\"configurable\": {\"thread_id\": \"abc123\"}}"
   ]
  },
  {
   "cell_type": "code",
   "execution_count": 24,
   "metadata": {},
   "outputs": [
    {
     "name": "stdout",
     "output_type": "stream",
     "text": [
      "{'agent': {'messages': [AIMessage(content='Hello Ihsan! How can I assist you today?', response_metadata={'token_usage': {'completion_tokens': 13, 'prompt_tokens': 87, 'total_tokens': 100}, 'model_name': 'gpt-3.5-turbo-0125', 'system_fingerprint': None, 'finish_reason': 'stop', 'logprobs': None}, id='run-5ee061c8-98b8-45bd-99b6-99f5d6bb6e91-0', usage_metadata={'input_tokens': 87, 'output_tokens': 13, 'total_tokens': 100})]}}\n",
      "----\n"
     ]
    }
   ],
   "source": [
    "for chunk in agent_executor.stream(\n",
    "    {\"messages\": [HumanMessage(content=\"hi im Ihsan!\")]}, config\n",
    "):\n",
    "    print(chunk)\n",
    "    print(\"----\")"
   ]
  },
  {
   "cell_type": "code",
   "execution_count": 25,
   "metadata": {},
   "outputs": [
    {
     "name": "stdout",
     "output_type": "stream",
     "text": [
      "{'agent': {'messages': [AIMessage(content='Your name is Ihsan. How can I help you further, Ihsan?', response_metadata={'token_usage': {'completion_tokens': 19, 'prompt_tokens': 112, 'total_tokens': 131}, 'model_name': 'gpt-3.5-turbo-0125', 'system_fingerprint': None, 'finish_reason': 'stop', 'logprobs': None}, id='run-bdca3a6e-735e-40b2-bae9-b9ca8784ffe6-0', usage_metadata={'input_tokens': 112, 'output_tokens': 19, 'total_tokens': 131})]}}\n",
      "----\n"
     ]
    }
   ],
   "source": [
    "for chunk in agent_executor.stream(\n",
    "    {\"messages\": [HumanMessage(content=\"whats my name?\")]}, config\n",
    "):\n",
    "    print(chunk)\n",
    "    print(\"----\")"
   ]
  },
  {
   "cell_type": "code",
   "execution_count": 26,
   "metadata": {},
   "outputs": [
    {
     "name": "stdout",
     "output_type": "stream",
     "text": [
      "{'agent': {'messages': [AIMessage(content=\"I don't have access to personal information like your name. How can I assist you today?\", response_metadata={'token_usage': {'completion_tokens': 20, 'prompt_tokens': 86, 'total_tokens': 106}, 'model_name': 'gpt-3.5-turbo-0125', 'system_fingerprint': None, 'finish_reason': 'stop', 'logprobs': None}, id='run-da71d2ca-aa22-43f4-ba87-1f0ff9597dd8-0', usage_metadata={'input_tokens': 86, 'output_tokens': 20, 'total_tokens': 106})]}}\n",
      "----\n"
     ]
    }
   ],
   "source": [
    "config = {\"configurable\": {\"thread_id\": \"xyz123\"}}\n",
    "for chunk in agent_executor.stream(\n",
    "    {\"messages\": [HumanMessage(content=\"whats my name?\")]}, config\n",
    "):\n",
    "    print(chunk)\n",
    "    print(\"----\")"
   ]
  }
 ],
 "metadata": {
  "kernelspec": {
   "display_name": "langchain",
   "language": "python",
   "name": "python3"
  },
  "language_info": {
   "codemirror_mode": {
    "name": "ipython",
    "version": 3
   },
   "file_extension": ".py",
   "mimetype": "text/x-python",
   "name": "python",
   "nbconvert_exporter": "python",
   "pygments_lexer": "ipython3",
   "version": "3.12.4"
  }
 },
 "nbformat": 4,
 "nbformat_minor": 2
}
